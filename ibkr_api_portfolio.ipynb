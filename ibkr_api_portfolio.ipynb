{
 "cells": [
  {
   "cell_type": "markdown",
   "metadata": {},
   "source": [
    "# install ibkr api via pip3\n",
    "\n",
    "[Setting Up Interactive Brokers API with Python](https://www.youtube.com/watch?v=0QcEweJdO1A)"
   ]
  },
  {
   "cell_type": "code",
   "execution_count": null,
   "metadata": {},
   "outputs": [],
   "source": [
    "# list was is already installed\n",
    "pip3 list \n",
    "\n",
    "# install latest ibkr api  => ibapi\n",
    "pip3 install ibapi"
   ]
  },
  {
   "cell_type": "code",
   "execution_count": null,
   "metadata": {},
   "outputs": [],
   "source": [
    "# connect local running TWS client - this instance should already login :-)\n",
    "\n",
    "[code found here](https://www.pyquantnews.com/the-pyquant-newsletter/automate-trading-strategies-powerful-ib-api)\n",
    "\n",
    "[2nd ](https://www.interactivebrokers.com/campus/ibkr-quant-news/interactive-brokers-python-api-native-a-step-by-step-guide/)\n"
   ]
  },
  {
   "cell_type": "code",
   "execution_count": null,
   "metadata": {},
   "outputs": [],
   "source": [
    "from ibapi.client import EClient\n",
    "from ibapi.wrapper import EWrapper  \n",
    "\n",
    "class IBapi(EWrapper, EClient):\n",
    "     def __init__(self):\n",
    "         EClient.__init__(self, self) \n",
    "\n",
    "app = IBapi()\n",
    "\n",
    "# paper\n",
    "app.connect('127.0.0.1', 7496, 33)\n",
    "app.run()\n",
    "app.reqMarketDataType(3)\n",
    "\n",
    "\n",
    "#Uncomment this section if unable to connect\n",
    "#and to prevent errors on a reconnect\n",
    "import time\n",
    "time.sleep(20)\n",
    "app.disconnect()\n"
   ]
  },
  {
   "cell_type": "markdown",
   "metadata": {},
   "source": [
    "[app.reqMarketDataType(3)](https://www.interactivebrokers.com/campus/trading-lessons/python-receiving-market-data/)"
   ]
  },
  {
   "cell_type": "markdown",
   "metadata": {},
   "source": [
    "[FROM HERE](https://www.interactivebrokers.com/campus/trading-lessons/python-receiving-market-data/)"
   ]
  },
  {
   "cell_type": "code",
   "execution_count": null,
   "metadata": {},
   "outputs": [],
   "source": [
    "from ibapi.client import *\n",
    "from ibapi.wrapper import *\n",
    "import datetime\n",
    "import time\n",
    "import threading\n",
    "from ibapi.ticktype import TickTypeEnum\n",
    "\n",
    "# paper\n",
    "port = 7496\n",
    "\n",
    "\n",
    "class TestApp(EClient, EWrapper):\n",
    "    def __init__(self):\n",
    "        EClient.__init__(self, self)\n",
    "\n",
    "    def nextValidId(self, orderId: OrderId):\n",
    "        self.orderId = orderId\n",
    "    \n",
    "    def nextId(self):\n",
    "        self.orderId += 1\n",
    "        return self.orderId\n",
    "    \n",
    "    def error(self, reqId, errorCode, errorString, advancedOrderReject=\"\"):\n",
    "        print(f\"reqId: {reqId}, errorCode: {errorCode}, errorString: {errorString}, orderReject: {advancedOrderReject}\")\n",
    "      \n",
    "    def tickPrice(self, reqId, tickType, price, attrib):\n",
    "        print(f\"reqId: {reqId}, tickType: {TickTypeEnum.to_str(tickType)}, price: {price}, attrib: {attrib}\")\n",
    "      \n",
    "    def tickSize(self, reqId, tickType, size):\n",
    "        print(f\"reqId: {reqId}, tickType: {TickTypeEnum.to_str(tickType)}, size: {size}\")\n",
    "\n",
    "\n",
    "app = TestApp()\n",
    "app.connect(\"127.0.0.1\", port, 0)\n",
    "threading.Thread(target=app.run).start()\n",
    "time.sleep(1)\n",
    "\n",
    "mycontract = Contract()\n",
    "mycontract.symbol = \"AAPL\"\n",
    "mycontract.secType = \"STK\"\n",
    "mycontract.exchange = \"SMART\"\n",
    "mycontract.currency = \"USD\"\n",
    "\n",
    "app.reqMarketDataType(3)\n",
    "app.reqMktData(app.nextId(), mycontract, \"232\", False, False, [])"
   ]
  },
  {
   "cell_type": "markdown",
   "metadata": {},
   "source": [
    "# portfolio"
   ]
  },
  {
   "cell_type": "code",
   "execution_count": 2,
   "metadata": {},
   "outputs": [],
   "source": [
    "from ibapi.client import *\n",
    "from ibapi.wrapper import *\n",
    "import datetime\n",
    "import time\n",
    "import threading\n",
    "from ibapi.ticktype import TickTypeEnum\n",
    "\n",
    "# paper\n",
    "port = 7496\n",
    "\n",
    "\n",
    "class TestApp(EClient, EWrapper):\n",
    "    def __init__(self):\n",
    "        EClient.__init__(self, self)\n",
    "\n",
    "    def nextValidId(self, orderId: OrderId):\n",
    "        self.orderId = orderId\n",
    "    \n",
    "    def nextId(self):\n",
    "        self.orderId += 1\n",
    "        return self.orderId\n",
    "    \n",
    "    def error(self, reqId, errorCode, errorString, advancedOrderReject=\"\"):\n",
    "        print(f\"reqId: {reqId}, errorCode: {errorCode}, errorString: {errorString}, orderReject: {advancedOrderReject}\")\n",
    "      \n",
    "    def tickPrice(self, reqId, tickType, price, attrib):\n",
    "        print(f\"reqId: {reqId}, tickType: {TickTypeEnum.to_str(tickType)}, price: {price}, attrib: {attrib}\")\n",
    "      \n",
    "    def tickSize(self, reqId, tickType, size):\n",
    "        print(f\"reqId: {reqId}, tickType: {TickTypeEnum.to_str(tickType)}, size: {size}\")\n",
    "\n",
    "\n",
    "app = TestApp()\n",
    "app.connect(\"127.0.0.1\", port, 0)\n",
    "# threading.Thread(target=app.run).start()\n",
    "time.sleep(3)\n",
    "\n",
    "# mycontract = Contract()\n",
    "# mycontract.symbol = \"AAPL\"\n",
    "# mycontract.secType = \"STK\"\n",
    "# mycontract.exchange = \"SMART\"\n",
    "# mycontract.currency = \"USD\"\n",
    "\n",
    "# app.reqMarketDataType(3)\n",
    "# app.reqMktData(app.nextId(), mycontract, \"232\", False, False, [])\n",
    "\n"
   ]
  },
  {
   "cell_type": "markdown",
   "metadata": {},
   "source": [
    "# get position two"
   ]
  },
  {
   "cell_type": "code",
   "execution_count": null,
   "metadata": {},
   "outputs": [
    {
     "ename": "NameError",
     "evalue": "name 'pd' is not defined",
     "output_type": "error",
     "traceback": [
      "\u001b[31m---------------------------------------------------------------------------\u001b[39m",
      "\u001b[31mNameError\u001b[39m                                 Traceback (most recent call last)",
      "\u001b[36mCell\u001b[39m\u001b[36m \u001b[39m\u001b[32mIn[3]\u001b[39m\u001b[32m, line 25\u001b[39m\n\u001b[32m     22\u001b[39m         \u001b[38;5;28msuper\u001b[39m().positionEnd()\n\u001b[32m     23\u001b[39m         \u001b[38;5;28mself\u001b[39m.disconnect()\n\u001b[32m---> \u001b[39m\u001b[32m25\u001b[39m ib_api = \u001b[43mib_class\u001b[49m\u001b[43m(\u001b[49m\u001b[43m)\u001b[49m \n\u001b[32m     26\u001b[39m ib_api.connect(\u001b[33m\"\u001b[39m\u001b[33m127.0.0.1\u001b[39m\u001b[33m\"\u001b[39m, \u001b[32m7496\u001b[39m, \u001b[32m0\u001b[39m) \n\u001b[32m     28\u001b[39m ib_api.positions_event.clear() \u001b[38;5;66;03m# reset positions_event\u001b[39;00m\n",
      "\u001b[36mCell\u001b[39m\u001b[36m \u001b[39m\u001b[32mIn[3]\u001b[39m\u001b[32m, line 6\u001b[39m, in \u001b[36mib_class.__init__\u001b[39m\u001b[34m(self)\u001b[39m\n\u001b[32m      4\u001b[39m \u001b[38;5;28;01mdef\u001b[39;00m\u001b[38;5;250m \u001b[39m\u001b[34m__init__\u001b[39m(\u001b[38;5;28mself\u001b[39m): \n\u001b[32m      5\u001b[39m     EClient.\u001b[34m__init__\u001b[39m(\u001b[38;5;28mself\u001b[39m, \u001b[38;5;28mself\u001b[39m)\n\u001b[32m----> \u001b[39m\u001b[32m6\u001b[39m     \u001b[38;5;28mself\u001b[39m.all_positions = \u001b[43mpd\u001b[49m.DataFrame([], columns = [\u001b[33m'\u001b[39m\u001b[33mAccount\u001b[39m\u001b[33m'\u001b[39m,\u001b[33m'\u001b[39m\u001b[33mSymbol\u001b[39m\u001b[33m'\u001b[39m, \u001b[33m'\u001b[39m\u001b[33mQuantity\u001b[39m\u001b[33m'\u001b[39m, \u001b[33m'\u001b[39m\u001b[33mAverage Cost\u001b[39m\u001b[33m'\u001b[39m])\n\u001b[32m      7\u001b[39m     \u001b[38;5;28mself\u001b[39m.execution_event = threading.Event()\n",
      "\u001b[31mNameError\u001b[39m: name 'pd' is not defined"
     ]
    }
   ],
   "source": [
    "import threading\n",
    "import pandas as pd\n",
    "\n",
    "class ib_class(EWrapper, EClient): \n",
    "    def __init__(self): \n",
    "        EClient.__init__(self, self)\n",
    "        self.all_positions = pd.DataFrame([], columns = ['Account','Symbol', 'Quantity', 'Average Cost'])\n",
    "        self.execution_event = threading.Event()\n",
    "\n",
    "    def position(self, account, contract, pos, avgCost):\n",
    "        index = str(account)+str(contract.symbol)\n",
    "        self.all_positions.loc[index]=account,contract.symbol,pos,avgCost\n",
    "        # set the event\n",
    "        self.positions_event.set()\n",
    "\n",
    "    def error(self, reqId:TickerId, errorCode:int, errorString:str):\n",
    "        if reqId > -1:\n",
    "            print(\"Error. Id: \" , reqId, \" Code: \" , errorCode , \" Msg: \" , errorString)\n",
    "        # set the event\n",
    "        self.positions_event.set()\n",
    "\n",
    "    def positionEnd(self):\n",
    "        super().positionEnd()\n",
    "        self.disconnect()\n",
    "\n",
    "ib_api = ib_class() \n",
    "ib_api.connect(\"127.0.0.1\", 7496, 0) \n",
    "\n",
    "ib_api.positions_event.clear() # reset positions_event\n",
    "ib_api.reqPositions()\n",
    "ib_api.positions_event.wait()  # Wait for positions data to come in\n",
    "current_positions = ib_api.all_positions\n",
    "ib_api.run()\n",
    "\n",
    "return(current_positions)"
   ]
  }
 ],
 "metadata": {
  "kernelspec": {
   "display_name": ".venv",
   "language": "python",
   "name": "python3"
  },
  "language_info": {
   "codemirror_mode": {
    "name": "ipython",
    "version": 3
   },
   "file_extension": ".py",
   "mimetype": "text/x-python",
   "name": "python",
   "nbconvert_exporter": "python",
   "pygments_lexer": "ipython3",
   "version": "3.11.2"
  }
 },
 "nbformat": 4,
 "nbformat_minor": 2
}
