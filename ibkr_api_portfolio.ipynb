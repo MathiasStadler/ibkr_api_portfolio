{
 "cells": [
  {
   "cell_type": "markdown",
   "metadata": {},
   "source": [
    "# install ibkr api via pip3\n",
    "\n",
    "[Setting Up Interactive Brokers API with Python](https://www.youtube.com/watch?v=0QcEweJdO1A)"
   ]
  },
  {
   "cell_type": "code",
   "execution_count": null,
   "metadata": {},
   "outputs": [],
   "source": [
    "# list was is already installed\n",
    "pip3 list \n",
    "\n",
    "# install latest ibkr api  => ibapi\n",
    "pip3 install ibapi"
   ]
  },
  {
   "cell_type": "code",
   "execution_count": null,
   "metadata": {},
   "outputs": [],
   "source": [
    "# connect local running TWS client - this instance should already login :-)\n",
    "\n",
    "[code found here](https://www.pyquantnews.com/the-pyquant-newsletter/automate-trading-strategies-powerful-ib-api)\n",
    "\n",
    "[2nd ](https://www.interactivebrokers.com/campus/ibkr-quant-news/interactive-brokers-python-api-native-a-step-by-step-guide/)\n"
   ]
  },
  {
   "cell_type": "code",
   "execution_count": null,
   "metadata": {},
   "outputs": [],
   "source": [
    "from ibapi.client import EClient\n",
    "from ibapi.wrapper import EWrapper  \n",
    "\n",
    "class IBapi(EWrapper, EClient):\n",
    "     def __init__(self):\n",
    "         EClient.__init__(self, self) \n",
    "\n",
    "app = IBapi()\n",
    "\n",
    "# paper\n",
    "app.connect('127.0.0.1', 7496, 33)\n",
    "app.run()\n",
    "app.reqMarketDataType(3)\n",
    "\n",
    "\n",
    "#Uncomment this section if unable to connect\n",
    "#and to prevent errors on a reconnect\n",
    "import time\n",
    "time.sleep(20)\n",
    "app.disconnect()\n"
   ]
  },
  {
   "cell_type": "markdown",
   "metadata": {},
   "source": [
    "[app.reqMarketDataType(3)](https://www.interactivebrokers.com/campus/trading-lessons/python-receiving-market-data/)"
   ]
  },
  {
   "cell_type": "markdown",
   "metadata": {},
   "source": [
    "[FROM HERE](https://www.interactivebrokers.com/campus/trading-lessons/python-receiving-market-data/)"
   ]
  },
  {
   "cell_type": "code",
   "execution_count": null,
   "metadata": {},
   "outputs": [],
   "source": [
    "from ibapi.client import *\n",
    "from ibapi.wrapper import *\n",
    "import datetime\n",
    "import time\n",
    "import threading\n",
    "from ibapi.ticktype import TickTypeEnum\n",
    "\n",
    "# paper\n",
    "port = 7496\n",
    "\n",
    "\n",
    "class TestApp(EClient, EWrapper):\n",
    "    def __init__(self):\n",
    "        EClient.__init__(self, self)\n",
    "\n",
    "    def nextValidId(self, orderId: OrderId):\n",
    "        self.orderId = orderId\n",
    "    \n",
    "    def nextId(self):\n",
    "        self.orderId += 1\n",
    "        return self.orderId\n",
    "    \n",
    "    def error(self, reqId, errorCode, errorString, advancedOrderReject=\"\"):\n",
    "        print(f\"reqId: {reqId}, errorCode: {errorCode}, errorString: {errorString}, orderReject: {advancedOrderReject}\")\n",
    "      \n",
    "    def tickPrice(self, reqId, tickType, price, attrib):\n",
    "        print(f\"reqId: {reqId}, tickType: {TickTypeEnum.to_str(tickType)}, price: {price}, attrib: {attrib}\")\n",
    "      \n",
    "    def tickSize(self, reqId, tickType, size):\n",
    "        print(f\"reqId: {reqId}, tickType: {TickTypeEnum.to_str(tickType)}, size: {size}\")\n",
    "\n",
    "\n",
    "app = TestApp()\n",
    "app.connect(\"127.0.0.1\", port, 0)\n",
    "threading.Thread(target=app.run).start()\n",
    "time.sleep(1)\n",
    "\n",
    "mycontract = Contract()\n",
    "mycontract.symbol = \"AAPL\"\n",
    "mycontract.secType = \"STK\"\n",
    "mycontract.exchange = \"SMART\"\n",
    "mycontract.currency = \"USD\"\n",
    "\n",
    "app.reqMarketDataType(3)\n",
    "app.reqMktData(app.nextId(), mycontract, \"232\", False, False, [])"
   ]
  }
 ],
 "metadata": {
  "kernelspec": {
   "display_name": ".venv",
   "language": "python",
   "name": "python3"
  },
  "language_info": {
   "codemirror_mode": {
    "name": "ipython",
    "version": 3
   },
   "file_extension": ".py",
   "mimetype": "text/x-python",
   "name": "python",
   "nbconvert_exporter": "python",
   "pygments_lexer": "ipython3",
   "version": "3.11.2"
  }
 },
 "nbformat": 4,
 "nbformat_minor": 2
}
