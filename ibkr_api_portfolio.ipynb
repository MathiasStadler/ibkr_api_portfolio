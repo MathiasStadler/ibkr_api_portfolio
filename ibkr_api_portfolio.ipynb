{
 "cells": [
  {
   "cell_type": "markdown",
   "metadata": {},
   "source": [
    "# install ibkr api via pip3\n",
    "\n",
    "[Setting Up Interactive Brokers API with Python](https://www.youtube.com/watch?v=0QcEweJdO1A)"
   ]
  },
  {
   "cell_type": "code",
   "execution_count": null,
   "metadata": {
    "vscode": {
     "languageId": "plaintext"
    }
   },
   "outputs": [],
   "source": [
    "# list was is already installed\n",
    "pip3 list \n",
    "\n",
    "# install latest ibkr api  => ibapi\n",
    "pip3 install ibapi"
   ]
  },
  {
   "cell_type": "code",
   "execution_count": null,
   "metadata": {
    "vscode": {
     "languageId": "plaintext"
    }
   },
   "outputs": [],
   "source": [
    "# connect local running TWS client - this instance should already login :-)\n",
    "\n",
    "[code found here](https://www.pyquantnews.com/the-pyquant-newsletter/automate-trading-strategies-powerful-ib-api)\n"
   ]
  },
  {
   "cell_type": "code",
   "execution_count": null,
   "metadata": {
    "vscode": {
     "languageId": "plaintext"
    }
   },
   "outputs": [],
   "source": []
  }
 ],
 "metadata": {
  "language_info": {
   "name": "python"
  }
 },
 "nbformat": 4,
 "nbformat_minor": 2
}
